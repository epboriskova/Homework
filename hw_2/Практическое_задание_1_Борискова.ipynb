{
  "nbformat": 4,
  "nbformat_minor": 0,
  "metadata": {
    "colab": {
      "provenance": [],
      "toc_visible": true
    },
    "kernelspec": {
      "name": "python3",
      "display_name": "Python 3"
    },
    "language_info": {
      "name": "python"
    }
  },
  "cells": [
    {
      "cell_type": "markdown",
      "source": [
        "Создайте класс Chocolate (для определения шоколадного батончика), принимающий следующие аргументы при инициализации: цена батончика (тип - float), добавка к шоколаду (необязательный аргумент, тип - str) - 2 балла\n",
        "\n",
        "При инициализации необходимо проверять, чтобы цена батончика была больше нуля, если цена меньше нуля необходимо вызывать исключение ValueError - 2 балла\n",
        "\n",
        "Реализуйте метод show_my_chocolate, выводящий на печать \"Шоколадный батончик, добавка: {ДОБАВКА}\" в случае наличия добавки, а иначе должна отобразиться следующая фраза: \"Обычный шоколадный батончик\" - 2 балла\n",
        "\n",
        "Переопределите метод __str__, который при применении функции print() к объекты класса Chocolate должен возвращать строку \"Шоколадный батончик, <ЦЕНА> рублей\" - 2 балла\n",
        "\n",
        "Продемонстрируйте использование соответствующего функционала вашего класса, создав несколько объектов Chocolate с различными аргументами - 2 балла"
      ],
      "metadata": {
        "id": "gvwCqFvn847G"
      }
    },
    {
      "cell_type": "code",
      "source": [
        "class Chocolate:\n",
        "    def __init__(self, price: float, addition: str):\n",
        "        if price <= 0:\n",
        "            raise ValueError(\"Цена батончика должна быть больше нуля.\")\n",
        "        self.price = price\n",
        "        self.addition = addition\n",
        "\n",
        "    def show_my_chocolate(self):\n",
        "        if self.addition:\n",
        "            print(f\"Шоколадный батончик: {self.addition}\")\n",
        "        else:\n",
        "            print(\"Обычный шоколадный батончик\")\n",
        "\n",
        "    def __str__(self):\n",
        "        return f\"Шоколадный батончик, {self.price} рублей\"\n",
        "\n",
        "try:\n",
        "    chocolate1 = Chocolate(200.0, \"нуга\")\n",
        "    chocolate2 = Chocolate(100.0, \"\")\n",
        "    chocolate3 = Chocolate(-10, \"орехи\")\n",
        "except ValueError as x:\n",
        "    print(x)\n",
        "\n",
        "chocolate1.show_my_chocolate()\n",
        "print(chocolate1)\n",
        "\n",
        "chocolate2.show_my_chocolate()\n",
        "print(chocolate2)"
      ],
      "metadata": {
        "colab": {
          "base_uri": "https://localhost:8080/"
        },
        "id": "2UyC7H-J8_pL",
        "outputId": "1ec48904-af27-46f3-90a2-daaf5312c964"
      },
      "execution_count": null,
      "outputs": [
        {
          "output_type": "stream",
          "name": "stdout",
          "text": [
            "Цена батончика должна быть больше нуля.\n",
            "Шоколадный батончик: нуга\n",
            "Шоколадный батончик, 200.0 рублей\n",
            "Обычный шоколадный батончик\n",
            "Шоколадный батончик, 100.0 рублей\n"
          ]
        }
      ]
    }
  ]
}